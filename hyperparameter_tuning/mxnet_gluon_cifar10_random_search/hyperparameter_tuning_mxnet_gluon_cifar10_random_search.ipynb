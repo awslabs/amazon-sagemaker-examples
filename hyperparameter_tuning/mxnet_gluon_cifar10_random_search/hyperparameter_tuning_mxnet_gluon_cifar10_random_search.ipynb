{
 "cells": [
  {
   "cell_type": "markdown",
   "id": "velvet-longitude",
   "metadata": {
    "papermill": {
     "duration": 0.019741,
     "end_time": "2021-06-11T00:14:36.054138",
     "exception": false,
     "start_time": "2021-06-11T00:14:36.034397",
     "status": "completed"
    },
    "tags": []
   },
   "source": [
    "# Gluon CIFAR-10 Hyperparameter Tuning\n",
    "_**ResNet model in Gluon trained with SageMaker Automatic Model Tuning and Random Search Tuning**_\n",
    "\n",
    "---\n",
    "\n",
    "---\n",
    "\n",
    "_This notebook was created and tested on an ml.m4.xlarge notebook instance.  However, the tuning jobs use multiple ml.p3.8xlarge instances, meaning re-running this test could cost approximately \\$400.  Please do not use Cell -> Run All.  Certain cell outputs have not been cleared so that you can see results without having to run the notebook yourself._\n",
    "\n",
    "## Outline\n",
    "\n",
    "1. [Background](#Background)\n",
    "1. [Setup](#Setup)\n",
    "1. [Data](#Data)\n",
    "1. [Script](#Script)\n",
    "1. [Train: Initial](#Train:-Initial)\n",
    "1. [Tune: Random](#Tune:-Random)\n",
    "1. [Tune: Automatic Model Tuning](#Tune:-Automatic-Model-Tuning)\n",
    "1. [Wrap-up](#Wrap-up)\n",
    "\n",
    "## Background\n",
    "\n",
    "Selecting the right hyperparameter values for your machine learning model can be difficult.  The right answer is dependent on your data; some algorithms have many different hyperparameters that can be tweaked; some are very sensitive to the hyperparameter values selected; and most have a non-linear relationship between model fit and hyperparameter values.\n",
    "\n",
    "There are a variety of strategies to select hyperparameter values.  Some scientists use domain knowledge, heuristics, intuition, or manual experimentation; others use brute force searches; and some build meta models to predict what performant hyperparameter values may be.  But regardless of the method, it usually requires a specialized skill set.  Meanwhile, most scientists themselves would prefer to be creating new models rather than endlessly refining an old one.\n",
    "\n",
    "Amazon SageMaker can ease this process with Automatic Model Tuning.  This technique uses Gaussian Process regression to predict which hyperparameter values may be most effective at improving fit, and Bayesian optimization to balance exploring the hyperparameter space (so that a better predictive model for hyperparameters can be built) and exploiting specific hyperparameter values when needed.\n",
    "\n",
    "Other popular methods of hyperparameter optimization include brute force methods like random search.  Despite sounding naive, this is often very competitive.  However, we've found SageMaker's Automatic Model Tuning to provide better fits in fewer job runs, resulting in a better model with less time spent and at a lower cost.  This notebook will compare the two methods in more detail.\n",
    "\n",
    "SageMaker's Automatic Model Tuning works with SageMaker's built-in algorithms, pre-built deep learning frameworks, and the bring your own algorithm container options.  But, for this example, let's stick with the MXNet framework, a ResNet-34 convolutional neural network, and the [CIFAR-10](https://www.cs.toronto.edu/~kriz/cifar.html) image dataset.  For more background, please see the [MXNet CIFAR-10 example notebook](https://github.com/awslabs/amazon-sagemaker-examples/blob/master/sagemaker-python-sdk/mxnet_gluon_cifar10/mxnet_cifar10_with_gluon.ipynb).\n",
    "\n",
    "## Setup"
   ]
  },
  {
   "cell_type": "markdown",
   "id": "collected-spouse",
   "metadata": {
    "papermill": {
     "duration": 0.019685,
     "end_time": "2021-06-11T00:14:36.093611",
     "exception": false,
     "start_time": "2021-06-11T00:14:36.073926",
     "status": "completed"
    },
    "tags": []
   },
   "source": [
    "Install scikit-image==0.14.2"
   ]
  },
  {
   "cell_type": "code",
   "execution_count": 24,
   "id": "square-professor",
   "metadata": {
    "execution": {
     "iopub.execute_input": "2021-06-11T00:14:36.138220Z",
     "iopub.status.busy": "2021-06-11T00:14:36.137606Z",
     "iopub.status.idle": "2021-06-11T00:14:41.247668Z",
     "shell.execute_reply": "2021-06-11T00:14:41.247145Z"
    },
    "papermill": {
     "duration": 5.134044,
     "end_time": "2021-06-11T00:14:41.247800",
     "exception": false,
     "start_time": "2021-06-11T00:14:36.113756",
     "status": "completed"
    },
    "tags": []
   },
   "outputs": [],
   "source": [
    "# Install a scikit-image package in the current Jupyter kernel\n",
    "import sys\n",
    "\n",
    "!{sys.executable} -m pip install scikit-image==0.14.2"
   ]
  },
  {
   "cell_type": "markdown",
   "id": "deadly-venture",
   "metadata": {
    "papermill": {
     "duration": 0.03278,
     "end_time": "2021-06-11T00:14:41.314036",
     "exception": false,
     "start_time": "2021-06-11T00:14:41.281256",
     "status": "completed"
    },
    "tags": []
   },
   "source": [
    "Specify the IAM role for permission to access the dataset in S3 and SageMaker functionality."
   ]
  },
  {
   "cell_type": "code",
   "execution_count": 25,
   "id": "together-secretariat",
   "metadata": {
    "execution": {
     "iopub.execute_input": "2021-06-11T00:14:41.385900Z",
     "iopub.status.busy": "2021-06-11T00:14:41.384914Z",
     "iopub.status.idle": "2021-06-11T00:14:42.902317Z",
     "shell.execute_reply": "2021-06-11T00:14:42.901799Z"
    },
    "papermill": {
     "duration": 1.554534,
     "end_time": "2021-06-11T00:14:42.902462",
     "exception": false,
     "start_time": "2021-06-11T00:14:41.347928",
     "status": "completed"
    },
    "tags": []
   },
   "outputs": [],
   "source": [
    "import sagemaker\n",
    "\n",
    "sagemaker_session = sagemaker.Session()\n",
    "role = sagemaker.get_execution_role()"
   ]
  },
  {
   "cell_type": "markdown",
   "id": "obvious-certificate",
   "metadata": {
    "papermill": {
     "duration": 0.032557,
     "end_time": "2021-06-11T00:14:43.006512",
     "exception": false,
     "start_time": "2021-06-11T00:14:42.973955",
     "status": "completed"
    },
    "tags": []
   },
   "source": [
    "Let's import the necessary libraries."
   ]
  },
  {
   "cell_type": "code",
   "execution_count": 26,
   "id": "favorite-principle",
   "metadata": {
    "execution": {
     "iopub.execute_input": "2021-06-11T00:14:43.076806Z",
     "iopub.status.busy": "2021-06-11T00:14:43.075895Z",
     "iopub.status.idle": "2021-06-11T00:14:43.183486Z",
     "shell.execute_reply": "2021-06-11T00:14:43.183955Z"
    },
    "papermill": {
     "duration": 0.145163,
     "end_time": "2021-06-11T00:14:43.184114",
     "exception": false,
     "start_time": "2021-06-11T00:14:43.038951",
     "status": "completed"
    },
    "tags": []
   },
   "outputs": [],
   "source": [
    "from sagemaker.mxnet import MXNet\n",
    "from sagemaker.tuner import (\n",
    "    IntegerParameter,\n",
    "    CategoricalParameter,\n",
    "    ContinuousParameter,\n",
    "    HyperparameterTuner,\n",
    ")\n",
    "import random_tuner as rt\n",
    "import pandas as pd\n",
    "import matplotlib.pyplot as plt"
   ]
  },
  {
   "cell_type": "markdown",
   "id": "german-episode",
   "metadata": {
    "papermill": {
     "duration": 0.033026,
     "end_time": "2021-06-11T00:14:43.249927",
     "exception": false,
     "start_time": "2021-06-11T00:14:43.216901",
     "status": "completed"
    },
    "tags": []
   },
   "source": [
    "---\n",
    "\n",
    "## Data\n",
    "\n",
    "We'll use a helper script to download [CIFAR-10](https://www.cs.toronto.edu/~kriz/cifar.html) training data and sample images.  CIFAR-10 consists of 60K 32x32 pixel color images (50K train, 10K test) evenly distributed across 10 classes."
   ]
  },
  {
   "cell_type": "code",
   "execution_count": 27,
   "id": "proved-hollow",
   "metadata": {
    "execution": {
     "iopub.execute_input": "2021-06-11T00:14:43.318713Z",
     "iopub.status.busy": "2021-06-11T00:14:43.318125Z",
     "iopub.status.idle": "2021-06-11T00:14:49.801501Z",
     "shell.execute_reply": "2021-06-11T00:14:49.801994Z"
    },
    "papermill": {
     "duration": 6.519862,
     "end_time": "2021-06-11T00:14:49.802153",
     "exception": false,
     "start_time": "2021-06-11T00:14:43.282291",
     "status": "completed"
    },
    "tags": []
   },
   "outputs": [],
   "source": [
    "from cifar10_utils import download_training_data\n",
    "\n",
    "download_training_data()"
   ]
  },
  {
   "cell_type": "markdown",
   "id": "moderate-deviation",
   "metadata": {
    "papermill": {
     "duration": 0.033155,
     "end_time": "2021-06-11T00:14:49.868512",
     "exception": false,
     "start_time": "2021-06-11T00:14:49.835357",
     "status": "completed"
    },
    "tags": []
   },
   "source": [
    "Next we'll use the `sagemaker.Session.upload_data` function to upload our datasets to an S3 location. The return value `inputs` identifies the location -- we will use this later when we start the training and tuning jobs."
   ]
  },
  {
   "cell_type": "code",
   "execution_count": 28,
   "id": "surrounded-overhead",
   "metadata": {
    "execution": {
     "iopub.execute_input": "2021-06-11T00:14:49.939650Z",
     "iopub.status.busy": "2021-06-11T00:14:49.938698Z",
     "iopub.status.idle": "2021-06-11T00:14:52.647657Z",
     "shell.execute_reply": "2021-06-11T00:14:52.648097Z"
    },
    "papermill": {
     "duration": 2.746567,
     "end_time": "2021-06-11T00:14:52.648251",
     "exception": false,
     "start_time": "2021-06-11T00:14:49.901684",
     "status": "completed"
    },
    "tags": []
   },
   "outputs": [],
   "source": [
    "inputs = sagemaker_session.upload_data(path=\"data\", key_prefix=\"data/DEMO-gluon-cifar10\")\n",
    "print(\"input spec (in this case, just an S3 path): {}\".format(inputs))"
   ]
  },
  {
   "cell_type": "markdown",
   "id": "killing-commodity",
   "metadata": {
    "papermill": {
     "duration": 0.033347,
     "end_time": "2021-06-11T00:14:52.715020",
     "exception": false,
     "start_time": "2021-06-11T00:14:52.681673",
     "status": "completed"
    },
    "tags": []
   },
   "source": [
    "---\n",
    "\n",
    "## Script\n",
    "\n",
    "We need to provide a training script that can run on the SageMaker platform. This is idiomatic MXNet code arranged into a few key functions:\n",
    "* A `train()` function that takes in hyperparameters, defines our neural net architecture, and trains our network.\n",
    "* A `save()` function that saves our trained network as an MXNet model.\n",
    "* Helper functions `get_data()`, `get_train_data()`, and `get_test_data()` which prepare the CIFAR-10 image data for our `train()` function.\n",
    "* A helper function called `test()` which calculates our accuracy on the holdout datasets.\n",
    "* Hosting functions (which we keep for alignment with other MXNet CIFAR-10 notebooks, but won't dig into since the focus of this notebook is only on training).\n",
    "\n",
    "The network itself is a ResNet-34 architecture imported from the [Gluon Model Zoo](https://mxnet.incubator.apache.org/versions/master/api/python/gluon/model_zoo.html)."
   ]
  },
  {
   "cell_type": "code",
   "execution_count": 29,
   "id": "interracial-cannon",
   "metadata": {
    "execution": {
     "iopub.execute_input": "2021-06-11T00:14:52.786635Z",
     "iopub.status.busy": "2021-06-11T00:14:52.785883Z",
     "iopub.status.idle": "2021-06-11T00:14:52.944025Z",
     "shell.execute_reply": "2021-06-11T00:14:52.943486Z"
    },
    "papermill": {
     "duration": 0.195781,
     "end_time": "2021-06-11T00:14:52.944156",
     "exception": false,
     "start_time": "2021-06-11T00:14:52.748375",
     "status": "completed"
    },
    "tags": []
   },
   "outputs": [],
   "source": [
    "!cat 'cifar10.py'"
   ]
  },
  {
   "cell_type": "markdown",
   "id": "addressed-recipe",
   "metadata": {
    "papermill": {
     "duration": 0.034502,
     "end_time": "2021-06-11T00:14:53.013000",
     "exception": false,
     "start_time": "2021-06-11T00:14:52.978498",
     "status": "completed"
    },
    "tags": []
   },
   "source": [
    "---\n",
    "\n",
    "## Train: Initial\n",
    "\n",
    "Now that we've written our training script, we can submit it as a job to SageMaker training.  Normally, we might test locally to ensure our script worked (See the [MXNet CIFAR-10 local mode example](https://github.com/awslabs/amazon-sagemaker-examples/blob/master/sagemaker-python-sdk/mxnet_gluon_cifar10/mxnet_cifar10_local_mode.ipynb)), but since we already know the script works, we'll skip that step.\n",
    "\n",
    "Let's see how our model performs with a naive guess for hyperparameter values.  We're training our network with stochastic gradient descent (SGD), which is an iterative method to minimize our training loss by finding the direction to change our network weights that improves training loss and then taking a small step in that direction and repeating.  Since we're using SGD, the three hyperparameters we'll focus on will be:\n",
    "\n",
    "* `learning_rate`: which controls how large of steps we take.\n",
    "* `momentum`: which uses information from the direction of our previous step to inform our current step.\n",
    "* `wd`: which penalizes weights when they grow too large.\n",
    "\n",
    "In this case, we'll set the hyperparameters to MXNet's default values."
   ]
  },
  {
   "cell_type": "code",
   "execution_count": 30,
   "id": "included-sapphire",
   "metadata": {
    "execution": {
     "iopub.execute_input": "2021-06-11T00:14:53.088148Z",
     "iopub.status.busy": "2021-06-11T00:14:53.087386Z",
     "iopub.status.idle": "2021-06-11T00:14:53.153692Z",
     "shell.execute_reply": "2021-06-11T00:14:53.153151Z"
    },
    "papermill": {
     "duration": 0.106115,
     "end_time": "2021-06-11T00:14:53.153825",
     "exception": false,
     "start_time": "2021-06-11T00:14:53.047710",
     "status": "completed"
    },
    "tags": []
   },
   "outputs": [],
   "source": [
    "m = MXNet(\n",
    "    \"cifar10.py\",\n",
    "    role=role,\n",
    "    instance_count=1,\n",
    "    instance_type=\"ml.p2.xlarge\",\n",
    "    framework_version=\"1.4.1\",\n",
    "    py_version=\"py3\",\n",
    "    hyperparameters={\n",
    "        \"batch_size\": 1024,\n",
    "        \"epochs\": 1,\n",
    "        \"learning_rate\": 0.01,\n",
    "        \"momentum\": 0.0,\n",
    "        \"wd\": 0.0,\n",
    "    },\n",
    ")"
   ]
  },
  {
   "cell_type": "markdown",
   "id": "amazing-algebra",
   "metadata": {
    "papermill": {
     "duration": 0.035059,
     "end_time": "2021-06-11T00:14:53.223933",
     "exception": false,
     "start_time": "2021-06-11T00:14:53.188874",
     "status": "completed"
    },
    "tags": []
   },
   "source": [
    "Now that we've constructed our `MXNet` object, we can fit it using the data we uploaded to S3."
   ]
  },
  {
   "cell_type": "code",
   "execution_count": 31,
   "id": "brilliant-warren",
   "metadata": {
    "execution": {
     "iopub.execute_input": "2021-06-11T00:14:53.299616Z",
     "iopub.status.busy": "2021-06-11T00:14:53.298676Z",
     "iopub.status.idle": "2021-06-11T00:26:51.030770Z",
     "shell.execute_reply": "2021-06-11T00:26:51.031219Z"
    },
    "papermill": {
     "duration": 717.771754,
     "end_time": "2021-06-11T00:26:51.031375",
     "exception": false,
     "start_time": "2021-06-11T00:14:53.259621",
     "status": "completed"
    },
    "scrolled": true,
    "tags": []
   },
   "outputs": [],
   "source": [
    "m.fit(inputs)"
   ]
  },
  {
   "cell_type": "markdown",
   "id": "characteristic-astronomy",
   "metadata": {
    "papermill": {
     "duration": 0.047922,
     "end_time": "2021-06-11T00:26:51.127739",
     "exception": false,
     "start_time": "2021-06-11T00:26:51.079817",
     "status": "completed"
    },
    "tags": []
   },
   "source": [
    "As we can see, our accuracy is only about 53% on our validation dataset.  CIFAR-10 can be challenging, but we'd want our accuracy much better than just over half if users are depending on an accurate prediction.\n",
    "\n",
    "---\n",
    "\n",
    "## Tune: Random\n",
    "\n",
    "One method of hyperparameter tuning that performs surprisingly well for how simple it is, is randomly trying a variety of hyperparameter values within set ranges.  So, for this example, we've created a helper script `random_tuner.py` to help us do this.\n",
    "\n",
    "We'll need to supply:\n",
    "\n",
    "* A function that trains our MXNet model given a job name and list of hyperparameters.  Note, `wait` is set to false in our `fit()` call so that we can train multiple jobs at once.\n",
    "* A dictionary of hyperparameters where the ones we want to tune are defined as one of three types (`ContinuousParameter`, `IntegerParameter`, or `CategoricalParameter`) and appropriate minimum and maximum ranges or a list of possible values are provided."
   ]
  },
  {
   "cell_type": "code",
   "execution_count": 32,
   "id": "grave-chicago",
   "metadata": {
    "execution": {
     "iopub.execute_input": "2021-06-11T00:26:51.229623Z",
     "iopub.status.busy": "2021-06-11T00:26:51.228735Z",
     "iopub.status.idle": "2021-06-11T00:26:51.231285Z",
     "shell.execute_reply": "2021-06-11T00:26:51.230805Z"
    },
    "papermill": {
     "duration": 0.055749,
     "end_time": "2021-06-11T00:26:51.231410",
     "exception": false,
     "start_time": "2021-06-11T00:26:51.175661",
     "status": "completed"
    },
    "tags": []
   },
   "outputs": [],
   "source": [
    "def fit_random(job_name, hyperparameters):\n",
    "    m = MXNet(\n",
    "        \"cifar10.py\",\n",
    "        role=role,\n",
    "        instance_count=1,\n",
    "        instance_type=\"ml.p2.xlarge\",\n",
    "        framework_version=\"1.4.1\",\n",
    "        py_version=\"py3\",\n",
    "        hyperparameters=hyperparameters,\n",
    "    )\n",
    "    m.fit(inputs, wait=False, job_name=job_name)"
   ]
  },
  {
   "cell_type": "code",
   "execution_count": 33,
   "id": "patient-conflict",
   "metadata": {
    "execution": {
     "iopub.execute_input": "2021-06-11T00:26:51.332806Z",
     "iopub.status.busy": "2021-06-11T00:26:51.332120Z",
     "iopub.status.idle": "2021-06-11T00:26:51.334022Z",
     "shell.execute_reply": "2021-06-11T00:26:51.334463Z"
    },
    "papermill": {
     "duration": 0.054968,
     "end_time": "2021-06-11T00:26:51.334618",
     "exception": false,
     "start_time": "2021-06-11T00:26:51.279650",
     "status": "completed"
    },
    "tags": []
   },
   "outputs": [],
   "source": [
    "hyperparameters = {\n",
    "    \"batch_size\": 1024,\n",
    "    \"epochs\": 2,\n",
    "    \"learning_rate\": rt.ContinuousParameter(0.001, 0.5),\n",
    "    \"momentum\": rt.ContinuousParameter(0.0, 0.99),\n",
    "    \"wd\": rt.ContinuousParameter(0.0, 0.001),\n",
    "}"
   ]
  },
  {
   "cell_type": "markdown",
   "id": "designed-accent",
   "metadata": {
    "papermill": {
     "duration": 0.049212,
     "end_time": "2021-06-11T00:26:51.432569",
     "exception": false,
     "start_time": "2021-06-11T00:26:51.383357",
     "status": "completed"
    },
    "tags": []
   },
   "source": [
    "Next, we can kick off our random search.  We've specified the total number of training jobs to be only 20 and the maximum number of parallel jobs to be 2. Below we have printed out the results from having used 120 training jobs and a maximum number of parallel jobs to be 8. But this is a large amount and could make the cost of this notebook at much as $400 to run. (That output will be overwritten when you run the tuning job with the new parameter values.) The larger set of values exceeds the default concurrent instance limit for ml.p3.8xlarge instances. For testing this notebook, the smaller values control costs and allow you to complete successfully without requiring a service limit increase.\n",
    "\n",
    "_Note, this step may take up to an hour to complete.  Even if you loose connection with the notebook in the middle, as long as the notebook instance continues to run, `jobs` should still be successfully created for future use._"
   ]
  },
  {
   "cell_type": "code",
   "execution_count": 34,
   "id": "aggressive-custody",
   "metadata": {
    "execution": {
     "iopub.execute_input": "2021-06-11T00:26:51.544960Z",
     "iopub.status.busy": "2021-06-11T00:26:51.544385Z",
     "iopub.status.idle": "2021-06-11T02:10:48.955484Z",
     "shell.execute_reply": "2021-06-11T02:10:48.955945Z"
    },
    "papermill": {
     "duration": 6237.475286,
     "end_time": "2021-06-11T02:10:48.956098",
     "exception": false,
     "start_time": "2021-06-11T00:26:51.480812",
     "status": "completed"
    },
    "tags": []
   },
   "outputs": [],
   "source": [
    "%%time\n",
    "\n",
    "jobs = rt.random_search(fit_random, hyperparameters, max_jobs=2, max_parallel_jobs=2)"
   ]
  },
  {
   "cell_type": "markdown",
   "id": "recreational-duration",
   "metadata": {
    "papermill": {
     "duration": 0.064175,
     "end_time": "2021-06-11T02:10:49.084621",
     "exception": false,
     "start_time": "2021-06-11T02:10:49.020446",
     "status": "completed"
    },
    "tags": []
   },
   "source": [
    "Once our random search completes, we'll want to compare our training jobs (which may take a few extra minutes to finish) in order to understand how our objective metric (% accuracy on our validation dataset) varies by hyperparameter values.  In this case, our helper function includes two functions.\n",
    "\n",
    "* `get_metrics()` scrapes the CloudWatch logs for our training jobs and uses a regex to return any reported values of our objective metric.\n",
    "* `table_metrics()` joins on the hyperparameter values for each job, grabs the ending objective value, and converts the result to a Pandas DataFrame."
   ]
  },
  {
   "cell_type": "code",
   "execution_count": 35,
   "id": "pressing-enzyme",
   "metadata": {
    "execution": {
     "iopub.execute_input": "2021-06-11T02:10:49.218893Z",
     "iopub.status.busy": "2021-06-11T02:10:49.218029Z",
     "iopub.status.idle": "2021-06-11T02:10:52.904060Z",
     "shell.execute_reply": "2021-06-11T02:10:52.904518Z"
    },
    "papermill": {
     "duration": 3.75597,
     "end_time": "2021-06-11T02:10:52.904677",
     "exception": false,
     "start_time": "2021-06-11T02:10:49.148707",
     "status": "completed"
    },
    "tags": []
   },
   "outputs": [],
   "source": [
    "random_metrics = rt.table_metrics(jobs, rt.get_metrics(jobs, \"validation: accuracy=([0-9\\\\.]+)\"))\n",
    "random_metrics.sort_values([\"objective\"], ascending=False)"
   ]
  },
  {
   "cell_type": "markdown",
   "id": "portable-botswana",
   "metadata": {
    "papermill": {
     "duration": 0.064984,
     "end_time": "2021-06-11T02:10:53.034508",
     "exception": false,
     "start_time": "2021-06-11T02:10:52.969524",
     "status": "completed"
    },
    "tags": []
   },
   "source": [
    "As we can see, there's a huge variation in percent accuracy.  Had we initially (unknowingly) set our learning rate near 0.5, momentum at 0.15, and weight decay to 0.0004, we would have an accuracy just over 20% (this is particularly bad considering random guessing would produce 10% accuracy).\n",
    "\n",
    "But, we also found many successful hyperparameter value combinations, and reached a peak validation accuracy of 74.5%. The peak occured midway through the run, but could have occurred anywhere within the 20 jobs and will change across multiple runs.  We can see that with hyperparameter tuning our accuracy is well above the default value baseline of 53%.\n",
    "\n",
    "To get a rough understanding of how the hyperparameter values relate to one another and the objective metric, let's quickly plot them."
   ]
  },
  {
   "cell_type": "markdown",
   "id": "national-exhibition",
   "metadata": {
    "papermill": {
     "duration": null,
     "end_time": null,
     "exception": null,
     "start_time": null,
     "status": "pending"
    },
    "tags": []
   },
   "source": [
    "## Tune: Automatic Model Tuning\n",
    "\n",
    "Now, let's try using Amazon SageMaker's Automatic Model Tuning.  Rather than selecting hyperparameter values randomly, SageMaker builds a second machine learning model which, based on previous hyperparameter and objective metric values, predicts new values that might yield an improvement.  This should allow us to train better models, faster and cheaper.\n",
    "\n",
    "We'll use the tuner functionality already built-in to the SageMaker Python SDK.  Let's start by defining a new `MXNet` estimator."
   ]
  },
  {
   "cell_type": "code",
   "execution_count": 36,
   "id": "loose-hotel",
   "metadata": {
    "papermill": {
     "duration": null,
     "end_time": null,
     "exception": null,
     "start_time": null,
     "status": "pending"
    },
    "tags": []
   },
   "outputs": [],
   "source": [
    "mt = MXNet(\n",
    "    \"cifar10.py\",\n",
    "    role=role,\n",
    "    instance_count=1,\n",
    "    instance_type=\"ml.p2.xlarge\",\n",
    "    framework_version=\"1.4.1\",\n",
    "    py_version=\"py3\",\n",
    "    hyperparameters={\"batch_size\": 1024, \"epochs\": 5},\n",
    ")"
   ]
  },
  {
   "cell_type": "markdown",
   "id": "enhanced-electronics",
   "metadata": {
    "papermill": {
     "duration": null,
     "end_time": null,
     "exception": null,
     "start_time": null,
     "status": "pending"
    },
    "tags": []
   },
   "source": [
    "Now we can define our ranges (these take the same arguments as the classes from `random_tuner`)."
   ]
  },
  {
   "cell_type": "code",
   "execution_count": 37,
   "id": "demonstrated-elder",
   "metadata": {
    "papermill": {
     "duration": null,
     "end_time": null,
     "exception": null,
     "start_time": null,
     "status": "pending"
    },
    "tags": []
   },
   "outputs": [],
   "source": [
    "hyperparameter_ranges = {\n",
    "    \"learning_rate\": ContinuousParameter(0.001, 0.5),\n",
    "    \"momentum\": ContinuousParameter(0.0, 0.99),\n",
    "    \"wd\": ContinuousParameter(0.0, 0.001),\n",
    "}"
   ]
  },
  {
   "cell_type": "markdown",
   "id": "normal-wrapping",
   "metadata": {
    "papermill": {
     "duration": null,
     "end_time": null,
     "exception": null,
     "start_time": null,
     "status": "pending"
    },
    "tags": []
   },
   "source": [
    "Now, we'll define our objective metric and provide the regex needed to scrape it from our training jobs' CloudWatch logs."
   ]
  },
  {
   "cell_type": "code",
   "execution_count": 38,
   "id": "least-carry",
   "metadata": {
    "papermill": {
     "duration": null,
     "end_time": null,
     "exception": null,
     "start_time": null,
     "status": "pending"
    },
    "tags": []
   },
   "outputs": [],
   "source": [
    "objective_metric_name = \"Validation-accuracy\"\n",
    "metric_definitions = [{\"Name\": \"Validation-accuracy\", \"Regex\": \"validation: accuracy=([0-9\\\\.]+)\"}]"
   ]
  },
  {
   "cell_type": "markdown",
   "id": "prescribed-improvement",
   "metadata": {
    "papermill": {
     "duration": null,
     "end_time": null,
     "exception": null,
     "start_time": null,
     "status": "pending"
    },
    "tags": []
   },
   "source": [
    "Now we can create a `HyperparameterTuner` object and fit it by pointing to our data in S3.  This kicks our tuning job off in the background.\n",
    "\n",
    "Notice, we specify a much smaller number of total jobs, and a smaller number of parallel jobs.  Since our model uses previous training job runs to predict where to test next, we get better results (although it takes longer) when setting this to a smaller value."
   ]
  },
  {
   "cell_type": "code",
   "execution_count": 39,
   "id": "wanted-variance",
   "metadata": {
    "papermill": {
     "duration": null,
     "end_time": null,
     "exception": null,
     "start_time": null,
     "status": "pending"
    },
    "tags": []
   },
   "outputs": [],
   "source": [
    "tuner = HyperparameterTuner(\n",
    "    mt,\n",
    "    objective_metric_name,\n",
    "    hyperparameter_ranges,\n",
    "    metric_definitions,\n",
    "    max_jobs=4,\n",
    "    max_parallel_jobs=2,\n",
    ")"
   ]
  },
  {
   "cell_type": "code",
   "execution_count": null,
   "id": "innovative-absorption",
   "metadata": {
    "papermill": {
     "duration": null,
     "end_time": null,
     "exception": null,
     "start_time": null,
     "status": "pending"
    },
    "tags": []
   },
   "outputs": [],
   "source": [
    "tuner.fit(inputs)"
   ]
  },
  {
   "cell_type": "markdown",
   "id": "placed-recall",
   "metadata": {
    "papermill": {
     "duration": null,
     "end_time": null,
     "exception": null,
     "start_time": null,
     "status": "pending"
    },
    "tags": []
   },
   "source": [
    "_You will be unable to successfully run the following cells until the tuning job completes.  This step may take up to 2 hours._\n",
    "\n",
    "Once the tuning job finishes, we can bring in a table of metrics."
   ]
  },
  {
   "cell_type": "code",
   "execution_count": null,
   "id": "alpine-industry",
   "metadata": {
    "papermill": {
     "duration": null,
     "end_time": null,
     "exception": null,
     "start_time": null,
     "status": "pending"
    },
    "tags": []
   },
   "outputs": [],
   "source": [
    "bayes_metrics = sagemaker.HyperparameterTuningJobAnalytics(tuner._current_job_name).dataframe()\n",
    "bayes_metrics.sort_values([\"FinalObjectiveValue\"], ascending=False)"
   ]
  },
  {
   "cell_type": "markdown",
   "id": "comic-involvement",
   "metadata": {
    "papermill": {
     "duration": null,
     "end_time": null,
     "exception": null,
     "start_time": null,
     "status": "pending"
    },
    "tags": []
   },
   "source": [
    "Looking at our results, we can see that, with one fourth the total training jobs, SageMaker's Automatic Model Tuning has produced a model with better accuracy 74% than our random search.  In addition, there's no guarantee that the effectiveness of random search wouldn't change over subsequent runs."
   ]
  },
  {
   "cell_type": "markdown",
   "id": "usual-talent",
   "metadata": {
    "papermill": {
     "duration": null,
     "end_time": null,
     "exception": null,
     "start_time": null,
     "status": "pending"
    },
    "tags": []
   },
   "source": [
    "## Wrap-up\n",
    "\n",
    "In this notebook, we saw the importance of hyperparameter tuning and discovered how much more effective Amazon SageMaker Automatic Model Tuning can be than random search.  We could extend this example by testing another brute force method like grid search, tuning additional hyperparameters, using this first round of hyperparameter tuning to inform a secondary round of  hyperparameter tuning where ranges have been narrowed down further, or applying this same comparison to your own problem.\n",
    "\n",
    "For more information on using SageMaker's Automatic Model Tuning, see our other [example notebooks](https://github.com/awslabs/amazon-sagemaker-examples/tree/master/hyperparameter_tuning) and [documentation](https://docs.aws.amazon.com/sagemaker/latest/dg/automatic-model-tuning.html)."
   ]
  }
 ],
 "metadata": {
  "kernelspec": {
   "display_name": "Environment (conda_mxnet_p36)",
   "language": "python",
   "name": "conda_mxnet_p36"
  },
  "language_info": {
   "codemirror_mode": {
    "name": "ipython",
    "version": 3
   },
   "file_extension": ".py",
   "mimetype": "text/x-python",
   "name": "python",
   "nbconvert_exporter": "python",
   "pygments_lexer": "ipython3",
   "version": "3.6.10"
  },
  "notice": "Copyright 2018 Amazon.com, Inc. or its affiliates. All Rights Reserved.  Licensed under the Apache License, Version 2.0 (the \"License\"). You may not use this file except in compliance with the License. A copy of the License is located at http://aws.amazon.com/apache2.0/ or in the \"license\" file accompanying this file. This file is distributed on an \"AS IS\" BASIS, WITHOUT WARRANTIES OR CONDITIONS OF ANY KIND, either express or implied. See the License for the specific language governing permissions and limitations under the License.",
  "papermill": {
   "default_parameters": {},
   "duration": 6981.506055,
   "end_time": "2021-06-11T02:10:56.673917",
   "environment_variables": {},
   "exception": true,
   "input_path": "hyperparameter_tuning_mxnet_gluon_cifar10_random_search.ipynb",
   "output_path": "/opt/ml/processing/output/hyperparameter_tuning_mxnet_gluon_cifar10_random_search-2021-06-11-00-10-44.ipynb",
   "parameters": {
    "kms_key": "arn:aws:kms:us-west-2:521695447989:key/6e9984db-50cf-4c7e-926c-877ec47a8b25"
   },
   "start_time": "2021-06-11T00:14:35.167862",
   "version": "2.3.3"
  }
 },
 "nbformat": 4,
 "nbformat_minor": 5
}