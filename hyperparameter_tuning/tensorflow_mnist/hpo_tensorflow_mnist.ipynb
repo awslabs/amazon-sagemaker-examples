{
 "cells": [
  {
   "cell_type": "code",
   "execution_count": 1,
   "id": "illegal-adobe",
   "metadata": {
    "execution": {
     "iopub.execute_input": "2021-06-11T00:14:57.693111Z",
     "iopub.status.busy": "2021-06-11T00:14:57.692602Z",
     "iopub.status.idle": "2021-06-11T00:15:31.218559Z",
     "shell.execute_reply": "2021-06-11T00:15:31.219025Z"
    },
    "papermill": {
     "duration": 33.547399,
     "end_time": "2021-06-11T00:15:31.219177",
     "exception": false,
     "start_time": "2021-06-11T00:14:57.671778",
     "status": "completed"
    },
    "tags": []
   },
   "outputs": [],
   "source": [
    "# Install dependencies\n",
    "!pip install -q smdebug\n",
    "!pip install -q seaborn\n",
    "!pip install -q plotly\n",
    "!pip install -q opencv-python\n",
    "!pip install -q shap\n",
    "!pip install -q bokeh\n",
    "!pip install -q imageio"
   ]
  },
  {
   "cell_type": "markdown",
   "id": "comfortable-programmer",
   "metadata": {
    "papermill": {
     "duration": 0.014331,
     "end_time": "2021-06-11T00:15:31.247944",
     "exception": false,
     "start_time": "2021-06-11T00:15:31.233613",
     "status": "completed"
    },
    "tags": []
   },
   "source": [
    "# Hyperparameter Tuning using SageMaker Tensorflow Container\n",
    "\n",
    "Kernel `Python 3 (TensorFlow CPU (or GPU) Optimized)` works well with this notebook.\n",
    "\n",
    "This tutorial focuses on how to create a convolutional neural network model to train the [MNIST dataset](http://yann.lecun.com/exdb/mnist/) using **SageMaker TensorFlow container**. It leverages hyperparameter tuning to kick off multiple training jobs with different hyperparameter combinations, to find the one with best model training result."
   ]
  },
  {
   "cell_type": "markdown",
   "id": "disabled-campbell",
   "metadata": {
    "papermill": {
     "duration": 0.014632,
     "end_time": "2021-06-11T00:15:31.276900",
     "exception": false,
     "start_time": "2021-06-11T00:15:31.262268",
     "status": "completed"
    },
    "tags": []
   },
   "source": [
    "## Set up the environment\n",
    "We will set up a few things before starting the workflow. \n",
    "\n",
    "1. specify the s3 bucket and prefix where training data set and model artifacts will be stored\n",
    "2. get the execution role which will be passed to sagemaker for accessing your resources such as s3 bucket"
   ]
  },
  {
   "cell_type": "code",
   "execution_count": 2,
   "id": "proper-metadata",
   "metadata": {
    "execution": {
     "iopub.execute_input": "2021-06-11T00:15:31.309798Z",
     "iopub.status.busy": "2021-06-11T00:15:31.309281Z",
     "iopub.status.idle": "2021-06-11T00:15:32.572095Z",
     "shell.execute_reply": "2021-06-11T00:15:32.572521Z"
    },
    "papermill": {
     "duration": 1.28151,
     "end_time": "2021-06-11T00:15:32.572668",
     "exception": false,
     "start_time": "2021-06-11T00:15:31.291158",
     "status": "completed"
    },
    "scrolled": true,
    "tags": []
   },
   "outputs": [],
   "source": [
    "import sagemaker\n",
    "\n",
    "bucket = (\n",
    "    sagemaker.Session().default_bucket()\n",
    ")  # we are using a default bucket here but you can change it to any bucket in your account\n",
    "prefix = \"sagemaker/DEMO-hpo-tensorflow-high\"  # you can customize the prefix (subfolder) here\n",
    "\n",
    "role = (\n",
    "    sagemaker.get_execution_role()\n",
    ")  # we are using the notebook instance role for training in this example"
   ]
  },
  {
   "cell_type": "markdown",
   "id": "mature-guyana",
   "metadata": {
    "papermill": {
     "duration": 0.014263,
     "end_time": "2021-06-11T00:15:32.601353",
     "exception": false,
     "start_time": "2021-06-11T00:15:32.587090",
     "status": "completed"
    },
    "tags": []
   },
   "source": [
    "Now we'll import the Python libraries we'll need."
   ]
  },
  {
   "cell_type": "code",
   "execution_count": 3,
   "id": "combined-nashville",
   "metadata": {
    "execution": {
     "iopub.execute_input": "2021-06-11T00:15:32.634548Z",
     "iopub.status.busy": "2021-06-11T00:15:32.634038Z",
     "iopub.status.idle": "2021-06-11T00:15:32.640633Z",
     "shell.execute_reply": "2021-06-11T00:15:32.641025Z"
    },
    "papermill": {
     "duration": 0.025445,
     "end_time": "2021-06-11T00:15:32.641164",
     "exception": false,
     "start_time": "2021-06-11T00:15:32.615719",
     "status": "completed"
    },
    "tags": []
   },
   "outputs": [],
   "source": [
    "import boto3\n",
    "from time import gmtime, strftime\n",
    "from sagemaker.tensorflow import TensorFlow\n",
    "from sagemaker.tuner import (\n",
    "    IntegerParameter,\n",
    "    CategoricalParameter,\n",
    "    ContinuousParameter,\n",
    "    HyperparameterTuner,\n",
    ")"
   ]
  },
  {
   "cell_type": "markdown",
   "id": "extended-breakdown",
   "metadata": {
    "papermill": {
     "duration": 0.014351,
     "end_time": "2021-06-11T00:15:32.669865",
     "exception": false,
     "start_time": "2021-06-11T00:15:32.655514",
     "status": "completed"
    },
    "tags": []
   },
   "source": [
    "## Download the MNIST dataset"
   ]
  },
  {
   "cell_type": "code",
   "execution_count": 4,
   "id": "working-tours",
   "metadata": {
    "execution": {
     "iopub.execute_input": "2021-06-11T00:15:32.703154Z",
     "iopub.status.busy": "2021-06-11T00:15:32.702563Z",
     "iopub.status.idle": "2021-06-11T00:15:39.279539Z",
     "shell.execute_reply": "2021-06-11T00:15:39.279970Z"
    },
    "papermill": {
     "duration": 6.595918,
     "end_time": "2021-06-11T00:15:39.280120",
     "exception": false,
     "start_time": "2021-06-11T00:15:32.684202",
     "status": "completed"
    },
    "tags": []
   },
   "outputs": [],
   "source": [
    "import utils\n",
    "from tensorflow.contrib.learn.python.learn.datasets import mnist\n",
    "import tensorflow as tf\n",
    "\n",
    "data_sets = mnist.read_data_sets(\"data\", dtype=tf.uint8, reshape=False, validation_size=5000)\n",
    "\n",
    "utils.convert_to(data_sets.train, \"train\", \"data\")\n",
    "utils.convert_to(data_sets.validation, \"validation\", \"data\")\n",
    "utils.convert_to(data_sets.test, \"test\", \"data\")"
   ]
  },
  {
   "cell_type": "markdown",
   "id": "recovered-agent",
   "metadata": {
    "papermill": {
     "duration": 0.017271,
     "end_time": "2021-06-11T00:15:39.314813",
     "exception": false,
     "start_time": "2021-06-11T00:15:39.297542",
     "status": "completed"
    },
    "tags": []
   },
   "source": [
    "## Upload the data\n",
    "We use the ```sagemaker.Session.upload_data``` function to upload our datasets to an S3 location. The return value identifies the location -- we will use this later when we start the training job."
   ]
  },
  {
   "cell_type": "code",
   "execution_count": 5,
   "id": "given-corpus",
   "metadata": {
    "execution": {
     "iopub.execute_input": "2021-06-11T00:15:39.364552Z",
     "iopub.status.busy": "2021-06-11T00:15:39.363681Z",
     "iopub.status.idle": "2021-06-11T00:15:42.974008Z",
     "shell.execute_reply": "2021-06-11T00:15:42.974377Z"
    },
    "papermill": {
     "duration": 3.641354,
     "end_time": "2021-06-11T00:15:42.974530",
     "exception": false,
     "start_time": "2021-06-11T00:15:39.333176",
     "status": "completed"
    },
    "tags": []
   },
   "outputs": [],
   "source": [
    "inputs = sagemaker.Session().upload_data(\n",
    "    path=\"data\", bucket=bucket, key_prefix=prefix + \"/data/mnist\"\n",
    ")\n",
    "print(inputs)"
   ]
  },
  {
   "cell_type": "markdown",
   "id": "pleased-postcard",
   "metadata": {
    "papermill": {
     "duration": 0.018036,
     "end_time": "2021-06-11T00:15:43.010279",
     "exception": false,
     "start_time": "2021-06-11T00:15:42.992243",
     "status": "completed"
    },
    "tags": []
   },
   "source": [
    "## Construct a script for distributed training \n",
    "Here is the full code for the network model:"
   ]
  },
  {
   "cell_type": "code",
   "execution_count": 6,
   "id": "express-newark",
   "metadata": {
    "execution": {
     "iopub.execute_input": "2021-06-11T00:15:43.049995Z",
     "iopub.status.busy": "2021-06-11T00:15:43.049474Z",
     "iopub.status.idle": "2021-06-11T00:15:43.208364Z",
     "shell.execute_reply": "2021-06-11T00:15:43.207879Z"
    },
    "papermill": {
     "duration": 0.180463,
     "end_time": "2021-06-11T00:15:43.208485",
     "exception": false,
     "start_time": "2021-06-11T00:15:43.028022",
     "status": "completed"
    },
    "tags": []
   },
   "outputs": [],
   "source": [
    "!cat 'mnist.py'"
   ]
  },
  {
   "cell_type": "markdown",
   "id": "embedded-sweden",
   "metadata": {
    "papermill": {
     "duration": 0.018146,
     "end_time": "2021-06-11T00:15:43.244896",
     "exception": false,
     "start_time": "2021-06-11T00:15:43.226750",
     "status": "completed"
    },
    "tags": []
   },
   "source": [
    "The script here is and adaptation of the [TensorFlow MNIST example](https://github.com/tensorflow/models/tree/r1.12.0/official/mnist). It provides a ```model_fn(features, labels, mode)```, which is used for training, evaluation and inference. \n",
    "\n",
    "### A regular ```model_fn```\n",
    "\n",
    "A regular **```model_fn```** follows the pattern:\n",
    "1. [defines a neural network](https://github.com/tensorflow/models/blob/r1.12.0/official/mnist/mnist.py#L103)\n",
    "- [applies the ```features``` in the neural network](https://github.com/tensorflow/models/blob/r1.12.0/official/mnist/mnist.py#L104)\n",
    "- [if the ```mode``` is ```PREDICT```, returns the output from the neural network](https://github.com/tensorflow/models/blob/r1.12.0/official/mnist/mnist.py#L108)\n",
    "- [calculates the loss function comparing the output with the ```labels```](https://github.com/tensorflow/models/blob/r1.12.0/official/mnist/mnist.py#L142)\n",
    "- [creates an optimizer and minimizes the loss function to improve the neural network](https://github.com/tensorflow/models/blob/r1.12.0/official/mnist/mnist.py#L121)\n",
    "- [returns the output, optimizer and loss function](https://github.com/tensorflow/models/blob/r1.12.0/official/mnist/mnist.py#L136-L139)\n",
    "\n",
    "### Writing a ```model_fn``` for distributed training\n",
    "When distributed training happens, the same neural network will be sent to the multiple training instances. Each instance will predict a batch of the dataset, calculate loss and minimize the optimizer. One entire loop of this process is called **training step**.\n",
    "\n",
    "#### Syncronizing training steps\n",
    "A [global step](https://github.com/tensorflow/docs/blob/r1.12/site/en/api_docs/python/tf/train/global_step.md) is a global variable shared between the instances. It necessary for distributed training, so the optimizer will keep track of the number of **training steps** between runs: \n",
    "\n",
    "```python\n",
    "train_op = optimizer.minimize(loss, tf.train.get_or_create_global_step())\n",
    "```\n",
    "\n",
    "That is the only required change for distributed training!"
   ]
  },
  {
   "cell_type": "markdown",
   "id": "consistent-reputation",
   "metadata": {
    "papermill": {
     "duration": 0.018042,
     "end_time": "2021-06-11T00:15:43.281036",
     "exception": false,
     "start_time": "2021-06-11T00:15:43.262994",
     "status": "completed"
    },
    "tags": []
   },
   "source": [
    "## Set up hyperparameter tuning job\n",
    "*Note, with the default setting below, the hyperparameter tuning job can take about 30 minutes to complete.*\n",
    "\n",
    "Now we will set up the hyperparameter tuning job using SageMaker Python SDK, following below steps:\n",
    "* Create an estimator to set up the TensorFlow training job\n",
    "* Define the ranges of hyperparameters we plan to tune, in this example, we are tuning \"learning_rate\"\n",
    "* Define the objective metric for the tuning job to optimize\n",
    "* Create a hyperparameter tuner with above setting, as well as tuning resource configurations "
   ]
  },
  {
   "cell_type": "markdown",
   "id": "hourly-angle",
   "metadata": {
    "papermill": {
     "duration": 0.018013,
     "end_time": "2021-06-11T00:15:43.317049",
     "exception": false,
     "start_time": "2021-06-11T00:15:43.299036",
     "status": "completed"
    },
    "tags": []
   },
   "source": [
    "Similar to training a single TensorFlow job in SageMaker, we define our TensorFlow estimator passing in the TensorFlow script, IAM role, and (per job) hardware configuration."
   ]
  },
  {
   "cell_type": "code",
   "execution_count": 7,
   "id": "bacterial-inquiry",
   "metadata": {
    "execution": {
     "iopub.execute_input": "2021-06-11T00:15:43.405906Z",
     "iopub.status.busy": "2021-06-11T00:15:43.404903Z",
     "iopub.status.idle": "2021-06-11T00:15:43.454190Z",
     "shell.execute_reply": "2021-06-11T00:15:43.454609Z"
    },
    "papermill": {
     "duration": 0.081651,
     "end_time": "2021-06-11T00:15:43.454760",
     "exception": false,
     "start_time": "2021-06-11T00:15:43.373109",
     "status": "completed"
    },
    "tags": []
   },
   "outputs": [],
   "source": [
    "estimator = TensorFlow(\n",
    "    py_version=\"py3\",\n",
    "    entry_point=\"mnist.py\",\n",
    "    role=role,\n",
    "    framework_version=\"1.12.0\",\n",
    "    training_steps=100,\n",
    "    evaluation_steps=10,\n",
    "    instance_count=1,\n",
    "    instance_type=\"ml.m4.xlarge\",\n",
    "    base_job_name=\"DEMO-hpo-tensorflow\",\n",
    ")"
   ]
  },
  {
   "cell_type": "markdown",
   "id": "permanent-conjunction",
   "metadata": {
    "papermill": {
     "duration": 0.01793,
     "end_time": "2021-06-11T00:15:43.490850",
     "exception": false,
     "start_time": "2021-06-11T00:15:43.472920",
     "status": "completed"
    },
    "tags": []
   },
   "source": [
    "Once we've defined our estimator we can specify the hyperparameters we'd like to tune and their possible values.  We have three different types of hyperparameters.\n",
    "- Categorical parameters need to take one value from a discrete set.  We define this by passing the list of possible values to `CategoricalParameter(list)`\n",
    "- Continuous parameters can take any real number value between the minimum and maximum value, defined by `ContinuousParameter(min, max)`\n",
    "- Integer parameters can take any integer value between the minimum and maximum value, defined by `IntegerParameter(min, max)`\n",
    "\n",
    "*Note, if possible, it's almost always best to specify a value as the least restrictive type.  For example, tuning learning rate as a continuous value between 0.01 and 0.2 is likely to yield a better result than tuning as a categorical parameter with values 0.01, 0.1, 0.15, or 0.2.*"
   ]
  },
  {
   "cell_type": "code",
   "execution_count": 8,
   "id": "indian-arthur",
   "metadata": {
    "execution": {
     "iopub.execute_input": "2021-06-11T00:15:43.531023Z",
     "iopub.status.busy": "2021-06-11T00:15:43.530259Z",
     "iopub.status.idle": "2021-06-11T00:15:43.532318Z",
     "shell.execute_reply": "2021-06-11T00:15:43.532709Z"
    },
    "papermill": {
     "duration": 0.023999,
     "end_time": "2021-06-11T00:15:43.532849",
     "exception": false,
     "start_time": "2021-06-11T00:15:43.508850",
     "status": "completed"
    },
    "tags": []
   },
   "outputs": [],
   "source": [
    "hyperparameter_ranges = {\"learning_rate\": ContinuousParameter(0.01, 0.2)}"
   ]
  },
  {
   "cell_type": "markdown",
   "id": "involved-bullet",
   "metadata": {
    "papermill": {
     "duration": 0.019639,
     "end_time": "2021-06-11T00:15:43.570528",
     "exception": false,
     "start_time": "2021-06-11T00:15:43.550889",
     "status": "completed"
    },
    "tags": []
   },
   "source": [
    "Next we'll specify the objective metric that we'd like to tune and its definition, which includes the regular expression (Regex) needed to extract that metric from the CloudWatch logs of the training job. In this particular case, our script emits loss value and we will use it as the objective metric, we also set the objective_type to be 'minimize', so that hyperparameter tuning seeks to minize the objective metric when searching for the best hyperparameter setting. By default, objective_type is set to 'maximize'."
   ]
  },
  {
   "cell_type": "code",
   "execution_count": 9,
   "id": "continuing-admission",
   "metadata": {
    "execution": {
     "iopub.execute_input": "2021-06-11T00:15:43.611541Z",
     "iopub.status.busy": "2021-06-11T00:15:43.610756Z",
     "iopub.status.idle": "2021-06-11T00:15:43.612739Z",
     "shell.execute_reply": "2021-06-11T00:15:43.613133Z"
    },
    "papermill": {
     "duration": 0.024766,
     "end_time": "2021-06-11T00:15:43.613275",
     "exception": false,
     "start_time": "2021-06-11T00:15:43.588509",
     "status": "completed"
    },
    "tags": []
   },
   "outputs": [],
   "source": [
    "objective_metric_name = \"loss\"\n",
    "objective_type = \"Minimize\"\n",
    "metric_definitions = [{\"Name\": \"loss\", \"Regex\": \"loss = ([0-9\\\\.]+)\"}]"
   ]
  },
  {
   "cell_type": "markdown",
   "id": "great-paradise",
   "metadata": {
    "papermill": {
     "duration": 0.018089,
     "end_time": "2021-06-11T00:15:43.649707",
     "exception": false,
     "start_time": "2021-06-11T00:15:43.631618",
     "status": "completed"
    },
    "tags": []
   },
   "source": [
    "Now, we'll create a `HyperparameterTuner` object, to which we pass:\n",
    "- The TensorFlow estimator we created above\n",
    "- Our hyperparameter ranges\n",
    "- Objective metric name and definition\n",
    "- Tuning resource configurations such as Number of training jobs to run in total and how many training jobs can be run in parallel."
   ]
  },
  {
   "cell_type": "code",
   "execution_count": 10,
   "id": "lonely-meter",
   "metadata": {
    "execution": {
     "iopub.execute_input": "2021-06-11T00:15:43.690286Z",
     "iopub.status.busy": "2021-06-11T00:15:43.689749Z",
     "iopub.status.idle": "2021-06-11T00:15:43.691646Z",
     "shell.execute_reply": "2021-06-11T00:15:43.692038Z"
    },
    "papermill": {
     "duration": 0.024287,
     "end_time": "2021-06-11T00:15:43.692189",
     "exception": false,
     "start_time": "2021-06-11T00:15:43.667902",
     "status": "completed"
    },
    "tags": []
   },
   "outputs": [],
   "source": [
    "tuner = HyperparameterTuner(\n",
    "    estimator,\n",
    "    objective_metric_name,\n",
    "    hyperparameter_ranges,\n",
    "    metric_definitions,\n",
    "    max_jobs=3,\n",
    "    max_parallel_jobs=1,\n",
    "    objective_type=objective_type,\n",
    ")"
   ]
  },
  {
   "cell_type": "markdown",
   "id": "proper-hierarchy",
   "metadata": {
    "papermill": {
     "duration": 0.018173,
     "end_time": "2021-06-11T00:15:43.728694",
     "exception": false,
     "start_time": "2021-06-11T00:15:43.710521",
     "status": "completed"
    },
    "tags": []
   },
   "source": [
    "## Launch hyperparameter tuning job\n",
    "And finally, we can start our hyperprameter tuning job by calling `.fit()` and passing in the S3 path to our train and test dataset.\n",
    "\n",
    "After the hyperprameter tuning job is created, you should be able to describe the tuning job to see its progress in the next step, and you can go to SageMaker console->Jobs to check out the progress of the progress of the hyperparameter tuning job."
   ]
  },
  {
   "cell_type": "code",
   "execution_count": 11,
   "id": "completed-shore",
   "metadata": {
    "execution": {
     "iopub.execute_input": "2021-06-11T00:15:43.768832Z",
     "iopub.status.busy": "2021-06-11T00:15:43.768342Z",
     "iopub.status.idle": "2021-06-11T00:15:44.417761Z",
     "shell.execute_reply": "2021-06-11T00:15:44.416905Z"
    },
    "papermill": {
     "duration": 0.671174,
     "end_time": "2021-06-11T00:15:44.418013",
     "exception": true,
     "start_time": "2021-06-11T00:15:43.746839",
     "status": "failed"
    },
    "tags": []
   },
   "outputs": [],
   "source": [
    "tuner.fit(inputs, wait=False)"
   ]
  },
  {
   "cell_type": "markdown",
   "id": "spoken-philippines",
   "metadata": {
    "papermill": {
     "duration": null,
     "end_time": null,
     "exception": null,
     "start_time": null,
     "status": "pending"
    },
    "tags": []
   },
   "source": [
    "Let's just run a quick check of the hyperparameter tuning jobs status to make sure it started successfully."
   ]
  },
  {
   "cell_type": "code",
   "execution_count": 13,
   "id": "advance-collaboration",
   "metadata": {
    "papermill": {
     "duration": null,
     "end_time": null,
     "exception": null,
     "start_time": null,
     "status": "pending"
    },
    "tags": []
   },
   "outputs": [],
   "source": [
    "boto3.client(\"sagemaker\").describe_hyper_parameter_tuning_job(\n",
    "    HyperParameterTuningJobName=tuner.latest_tuning_job.job_name\n",
    ")[\"HyperParameterTuningJobStatus\"]"
   ]
  },
  {
   "cell_type": "markdown",
   "id": "desperate-object",
   "metadata": {
    "papermill": {
     "duration": null,
     "end_time": null,
     "exception": null,
     "start_time": null,
     "status": "pending"
    },
    "tags": []
   },
   "source": [
    "## Analyze tuning job results - after tuning job is completed\n",
    "Please refer to \"HPO_Analyze_TuningJob_Results.ipynb\" to see example code to analyze the tuning job results."
   ]
  },
  {
   "cell_type": "markdown",
   "id": "mature-courtesy",
   "metadata": {
    "papermill": {
     "duration": null,
     "end_time": null,
     "exception": null,
     "start_time": null,
     "status": "pending"
    },
    "tags": []
   },
   "source": [
    "## Deploy the best model\n",
    "Now that we have got the best model, we can deploy it to an endpoint. Please refer to other SageMaker sample notebooks or SageMaker documentation to see how to deploy a model."
   ]
  }
 ],
 "metadata": {
  "instance_type": "ml.t3.medium",
  "kernelspec": {
   "display_name": "Environment (conda_tensorflow_p36)",
   "language": "python",
   "name": "conda_tensorflow_p36"
  },
  "language_info": {
   "codemirror_mode": {
    "name": "ipython",
    "version": 3
   },
   "file_extension": ".py",
   "mimetype": "text/x-python",
   "name": "python",
   "nbconvert_exporter": "python",
   "pygments_lexer": "ipython3",
   "version": "3.6.10"
  },
  "notice": "Copyright 2017 Amazon.com, Inc. or its affiliates. All Rights Reserved.  Licensed under the Apache License, Version 2.0 (the \"License\"). You may not use this file except in compliance with the License. A copy of the License is located at http://aws.amazon.com/apache2.0/ or in the \"license\" file accompanying this file. This file is distributed on an \"AS IS\" BASIS, WITHOUT WARRANTIES OR CONDITIONS OF ANY KIND, either express or implied. See the License for the specific language governing permissions and limitations under the License.",
  "papermill": {
   "default_parameters": {},
   "duration": 49.058722,
   "end_time": "2021-06-11T00:15:46.053491",
   "environment_variables": {},
   "exception": true,
   "input_path": "hpo_tensorflow_mnist.ipynb",
   "output_path": "/opt/ml/processing/output/hpo_tensorflow_mnist-2021-06-11-00-10-56.ipynb",
   "parameters": {
    "kms_key": "arn:aws:kms:us-west-2:521695447989:key/6e9984db-50cf-4c7e-926c-877ec47a8b25"
   },
   "start_time": "2021-06-11T00:14:56.994769",
   "version": "2.3.3"
  }
 },
 "nbformat": 4,
 "nbformat_minor": 5
}