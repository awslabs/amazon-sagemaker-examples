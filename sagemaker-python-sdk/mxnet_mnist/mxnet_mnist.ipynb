{
 "cells": [
  {
   "cell_type": "markdown",
   "id": "0085af32",
   "metadata": {
    "papermill": {
     "duration": 0.011048,
     "end_time": "2021-06-08T00:18:15.323922",
     "exception": false,
     "start_time": "2021-06-08T00:18:15.312874",
     "status": "completed"
    },
    "tags": []
   },
   "source": [
    "# Training and hosting SageMaker Models using the Apache MXNet Module API\n",
    "\n",
    "The [SageMaker Python SDK](https://sagemaker.readthedocs.io/en/stable) makes it easy to train and deploy Apache MXNet models. In this example, we train a simple neural network using the Apache MXNet [Module API](https://mxnet.apache.org/api/python/module/module.html) and the MNIST dataset. The MNIST dataset is widely used for handwritten digit classification, and consists of 70,000 labeled 28x28 pixel grayscale images of hand-written digits. The dataset is split into 60,000 training images and 10,000 test images. There are 10 classes (one for each of the 10 digits). The task at hand is to train a model using the 60,000 training images and subsequently test its classification accuracy on the 10,000 test images.\n",
    "\n",
    "### Setup\n",
    "\n",
    "First we define a few variables that are needed later in this example."
   ]
  },
  {
   "cell_type": "code",
   "execution_count": null,
   "id": "f870f908",
   "metadata": {
    "execution": {
     "iopub.execute_input": "2021-06-08T00:18:15.350043Z",
     "iopub.status.busy": "2021-06-08T00:18:15.349490Z",
     "iopub.status.idle": "2021-06-08T00:18:16.951723Z",
     "shell.execute_reply": "2021-06-08T00:18:16.951201Z"
    },
    "isConfigCell": true,
    "papermill": {
     "duration": 1.616997,
     "end_time": "2021-06-08T00:18:16.951850",
     "exception": false,
     "start_time": "2021-06-08T00:18:15.334853",
     "status": "completed"
    },
    "tags": []
   },
   "outputs": [],
   "source": [
    "from sagemaker import get_execution_role\n",
    "from sagemaker.session import Session\n",
    "\n",
    "# S3 bucket for saving code and model artifacts.\n",
    "# Feel free to specify a different bucket here if you wish.\n",
    "bucket = Session().default_bucket()\n",
    "\n",
    "# Bucket location where data will be uploaded.\n",
    "data_location = \"s3://{}/mxnet-mnist-example/data\".format(bucket)\n",
    "\n",
    "# Bucket location where your custom code will be saved in the tar.gz format.\n",
    "custom_code_upload_location = \"s3://{}/mxnet-mnist-example/code\".format(bucket)\n",
    "\n",
    "# Bucket location where results of model training are saved.\n",
    "model_artifacts_location = \"s3://{}/mxnet-mnist-example/artifacts\".format(bucket)\n",
    "\n",
    "# IAM execution role that gives SageMaker access to resources in your AWS account.\n",
    "# We can use the SageMaker Python SDK to get the role from our notebook environment.\n",
    "role = get_execution_role()"
   ]
  },
  {
   "cell_type": "markdown",
   "id": "6229d8d0",
   "metadata": {
    "papermill": {
     "duration": 0.011079,
     "end_time": "2021-06-08T00:18:16.974197",
     "exception": false,
     "start_time": "2021-06-08T00:18:16.963118",
     "status": "completed"
    },
    "tags": []
   },
   "source": [
    "### The training script\n",
    "\n",
    "The `mnist.py` script provides all the code we need for training and hosting a SageMaker model. The script also checkpoints the model at the end of every epoch and saves the model graph, params and optimizer state in the folder `/opt/ml/checkpoints`. If the folder path does not exist then it skips checkpointing. The script we use is adaptated from Apache MXNet [MNIST tutorial](https://mxnet.incubator.apache.org/tutorials/python/mnist.html).\n",
    "\n"
   ]
  },
  {
   "cell_type": "code",
   "execution_count": null,
   "id": "b494bf00",
   "metadata": {
    "execution": {
     "iopub.execute_input": "2021-06-08T00:18:17.000620Z",
     "iopub.status.busy": "2021-06-08T00:18:17.000089Z",
     "iopub.status.idle": "2021-06-08T00:18:17.822741Z",
     "shell.execute_reply": "2021-06-08T00:18:17.822251Z"
    },
    "papermill": {
     "duration": 0.837588,
     "end_time": "2021-06-08T00:18:17.822860",
     "exception": false,
     "start_time": "2021-06-08T00:18:16.985272",
     "status": "completed"
    },
    "tags": []
   },
   "outputs": [],
   "source": [
    "!pygmentize mnist.py"
   ]
  },
  {
   "cell_type": "markdown",
   "id": "17867bd2",
   "metadata": {
    "papermill": {
     "duration": 0.011903,
     "end_time": "2021-06-08T00:18:17.847179",
     "exception": false,
     "start_time": "2021-06-08T00:18:17.835276",
     "status": "completed"
    },
    "tags": []
   },
   "source": [
    "### SageMaker's MXNet estimator class"
   ]
  },
  {
   "cell_type": "markdown",
   "id": "bd866a2a",
   "metadata": {
    "papermill": {
     "duration": 0.011774,
     "end_time": "2021-06-08T00:18:17.870755",
     "exception": false,
     "start_time": "2021-06-08T00:18:17.858981",
     "status": "completed"
    },
    "tags": []
   },
   "source": [
    "The SageMaker ```MXNet``` estimator allows us to run single machine or distributed training in SageMaker, using CPU or GPU-based instances.\n",
    "\n",
    "When we create the estimator, we pass in the filename of our training script, the name of our IAM execution role, and the S3 locations we defined in the setup section. We also provide a few other parameters. ``train_instance_count`` and ``train_instance_type`` determine the number and type of SageMaker instances that will be used for the training job. The ``hyperparameters`` parameter is a ``dict`` of values that will be passed to your training script -- you can see how to access these values in the ``mnist.py`` script above.\n",
    "\n",
    "For this example, we will choose one ``ml.m4.xlarge`` instance."
   ]
  },
  {
   "cell_type": "code",
   "execution_count": null,
   "id": "bb501130",
   "metadata": {
    "execution": {
     "iopub.execute_input": "2021-06-08T00:18:17.899339Z",
     "iopub.status.busy": "2021-06-08T00:18:17.898827Z",
     "iopub.status.idle": "2021-06-08T00:18:17.968039Z",
     "shell.execute_reply": "2021-06-08T00:18:17.968486Z"
    },
    "papermill": {
     "duration": 0.085933,
     "end_time": "2021-06-08T00:18:17.968634",
     "exception": false,
     "start_time": "2021-06-08T00:18:17.882701",
     "status": "completed"
    },
    "tags": []
   },
   "outputs": [],
   "source": [
    "from sagemaker.mxnet import MXNet\n",
    "\n",
    "mnist_estimator = MXNet(\n",
    "    entry_point=\"mnist.py\",\n",
    "    role=role,\n",
    "    output_path=model_artifacts_location,\n",
    "    code_location=custom_code_upload_location,\n",
    "    instance_count=1,\n",
    "    instance_type=\"ml.m4.xlarge\",\n",
    "    framework_version=\"1.4.1\",\n",
    "    py_version=\"py3\",\n",
    "    # distribution={\"parameter_server\": {\"enabled\": True}},\n",
    "    hyperparameters={\"learning-rate\": 0.1},\n",
    ")"
   ]
  },
  {
   "cell_type": "markdown",
   "id": "aaa2b968",
   "metadata": {
    "papermill": {
     "duration": 0.012999,
     "end_time": "2021-06-08T00:18:17.994933",
     "exception": false,
     "start_time": "2021-06-08T00:18:17.981934",
     "status": "completed"
    },
    "tags": []
   },
   "source": [
    "### Running the Training Job"
   ]
  },
  {
   "cell_type": "markdown",
   "id": "c71572a4",
   "metadata": {
    "papermill": {
     "duration": 0.013019,
     "end_time": "2021-06-08T00:18:18.021081",
     "exception": false,
     "start_time": "2021-06-08T00:18:18.008062",
     "status": "completed"
    },
    "tags": []
   },
   "source": [
    "After we've constructed our MXNet object, we can fit it using data stored in S3. Below we run SageMaker training on two input channels: **train** and **test**.\n",
    "\n",
    "During training, SageMaker makes this data stored in S3 available in the local filesystem where the mnist script is running. The ```mnist.py``` script simply loads the train and test data from disk."
   ]
  },
  {
   "cell_type": "code",
   "execution_count": null,
   "id": "28bb17c5",
   "metadata": {
    "execution": {
     "iopub.execute_input": "2021-06-08T00:18:18.061478Z",
     "iopub.status.busy": "2021-06-08T00:18:18.059374Z",
     "iopub.status.idle": "2021-06-08T00:23:00.740466Z",
     "shell.execute_reply": "2021-06-08T00:23:00.739990Z"
    },
    "papermill": {
     "duration": 282.706559,
     "end_time": "2021-06-08T00:23:00.740588",
     "exception": false,
     "start_time": "2021-06-08T00:18:18.034029",
     "status": "completed"
    },
    "scrolled": true,
    "tags": []
   },
   "outputs": [],
   "source": [
    "%%time\n",
    "import boto3\n",
    "\n",
    "source_bucket = s3.Bucket(\"sagemaker-sample-files\")\n",
    "target_bucket = s3.Bucket(bucket)\n",
    "\n",
    "for prefix in [\"train\", \"test\"]:\n",
    "    source_files = [\n",
    "        obj\n",
    "        for obj in source_bucket.objects.filter(Prefix=\"datasets/image/MNIST/{}/\".format(prefix))\n",
    "    ]\n",
    "    for obj in source_files:\n",
    "        fname = obj.key.split(\"/\")[-1]\n",
    "        source_bucket.download_file(obj.key, fname)\n",
    "        target_bucket.upload_file(fname, \"{}/{}/{}\".format(data_location, prefix, fname))\n",
    "\n",
    "train_data_location = \"s3://{}/{}/train\".format(bucket, data_location)\n",
    "test_data_location = \"s3://{}/{}/test\".format(bucket, data_location)\n",
    "\n",
    "mnist_estimator.fit({\"train\": train_data_location, \"test\": test_data_location})"
   ]
  },
  {
   "cell_type": "markdown",
   "id": "56ac8ea5",
   "metadata": {
    "papermill": {
     "duration": 0.020269,
     "end_time": "2021-06-08T00:23:00.781496",
     "exception": false,
     "start_time": "2021-06-08T00:23:00.761227",
     "status": "completed"
    },
    "tags": []
   },
   "source": [
    "### Opimtize your model with Neo API\n",
    "Neo API allows to optimize our model for a specific hardware type. When calling compile_model() function, we specify the target instance family (C5) as well as the S3 bucket to which the compiled model would be stored.\n",
    "\n",
    "#### Important. If the following command result in a permission error, scroll up and locate the value of execution role returned by get_execution_role(). The role must have access to the S3 bucket specified in output_path."
   ]
  },
  {
   "cell_type": "code",
   "execution_count": null,
   "id": "486c330c",
   "metadata": {
    "execution": {
     "iopub.execute_input": "2021-06-08T00:23:00.828221Z",
     "iopub.status.busy": "2021-06-08T00:23:00.827688Z",
     "iopub.status.idle": "2021-06-08T00:23:00.964047Z",
     "shell.execute_reply": "2021-06-08T00:23:00.962987Z"
    },
    "papermill": {
     "duration": 0.162609,
     "end_time": "2021-06-08T00:23:00.964285",
     "exception": true,
     "start_time": "2021-06-08T00:23:00.801676",
     "status": "failed"
    },
    "tags": []
   },
   "outputs": [],
   "source": [
    "output_path = \"/\".join(mnist_estimator.output_path.split(\"/\")[:-1])\n",
    "neo_optimize = True\n",
    "compiled_model = mnist_estimator.compile_model(\n",
    "    target_instance_family=\"ml_m4\",\n",
    "    input_shape={\"data\": [1, 784], \"softmax_label\": [1]},\n",
    "    role=role,\n",
    "    output_path=output_path,\n",
    "    framework=\"mxnet\",\n",
    "    framework_version=\"1.8.0\",\n",
    ")"
   ]
  },
  {
   "cell_type": "markdown",
   "id": "4449b915",
   "metadata": {
    "papermill": {
     "duration": null,
     "end_time": null,
     "exception": null,
     "start_time": null,
     "status": "pending"
    },
    "tags": []
   },
   "source": [
    "### Creating an inference Endpoint\n",
    "\n",
    "After training, we use the ``MXNet estimator`` object to build and deploy an ``MXNetPredictor``. This creates a Sagemaker **Endpoint** -- a hosted prediction service that we can use to perform inference. \n",
    "\n",
    "The arguments to the ``deploy`` function allow us to set the number and type of instances that will be used for the Endpoint. These do not need to be the same as the values we used for the training job. For example, you can train a model on a set of GPU-based instances, and then deploy the Endpoint to a fleet of CPU-based instances. Here we will deploy the model to a single ``ml.m4.xlarge`` instance."
   ]
  },
  {
   "cell_type": "code",
   "execution_count": null,
   "id": "bd3855f1",
   "metadata": {
    "papermill": {
     "duration": null,
     "end_time": null,
     "exception": null,
     "start_time": null,
     "status": "pending"
    },
    "tags": []
   },
   "outputs": [],
   "source": [
    "import io\n",
    "import numpy as np\n",
    "\n",
    "\n",
    "def numpy_bytes_serializer(data):\n",
    "    f = io.BytesIO()\n",
    "    np.save(f, data)\n",
    "    f.seek(0)\n",
    "    return f.read()\n",
    "\n",
    "\n",
    "serializer = None\n",
    "if neo_optimize is True:\n",
    "    serializer = numpy_bytes_serializer\n",
    "\n",
    "predictor = compiled_model.deploy(\n",
    "    initial_instance_count=1, instance_type=\"ml.m4.xlarge\", serializer=serializer\n",
    ")"
   ]
  },
  {
   "cell_type": "markdown",
   "id": "28cad224",
   "metadata": {
    "papermill": {
     "duration": null,
     "end_time": null,
     "exception": null,
     "start_time": null,
     "status": "pending"
    },
    "tags": []
   },
   "source": [
    "# (Optional) Delete the Endpoint\n",
    "\n",
    "After you have finished with this example, remember to delete the prediction endpoint to release the instance(s) associated with it."
   ]
  },
  {
   "cell_type": "code",
   "execution_count": null,
   "id": "6e646747",
   "metadata": {
    "papermill": {
     "duration": null,
     "end_time": null,
     "exception": null,
     "start_time": null,
     "status": "pending"
    },
    "tags": []
   },
   "outputs": [],
   "source": [
    "print(\"Endpoint name: \" + predictor.endpoint_name)"
   ]
  },
  {
   "cell_type": "code",
   "execution_count": null,
   "id": "12076f10",
   "metadata": {
    "papermill": {
     "duration": null,
     "end_time": null,
     "exception": null,
     "start_time": null,
     "status": "pending"
    },
    "tags": []
   },
   "outputs": [],
   "source": [
    "predictor.delete_endpoint()"
   ]
  }
 ],
 "metadata": {
  "kernelspec": {
   "display_name": "conda_mxnet_p36",
   "language": "python",
   "name": "conda_mxnet_p36"
  },
  "language_info": {
   "codemirror_mode": {
    "name": "ipython",
    "version": 3
   },
   "file_extension": ".py",
   "mimetype": "text/x-python",
   "name": "python",
   "nbconvert_exporter": "python",
   "pygments_lexer": "ipython3",
   "version": "3.6.13"
  },
  "notice": "Copyright 2017 Amazon.com, Inc. or its affiliates. All Rights Reserved.  Licensed under the Apache License, Version 2.0 (the \"License\"). You may not use this file except in compliance with the License. A copy of the License is located at http://aws.amazon.com/apache2.0/ or in the \"license\" file accompanying this file. This file is distributed on an \"AS IS\" BASIS, WITHOUT WARRANTIES OR CONDITIONS OF ANY KIND, either express or implied. See the License for the specific language governing permissions and limitations under the License.",
  "papermill": {
   "default_parameters": {},
   "duration": 286.751707,
   "end_time": "2021-06-08T00:23:01.390469",
   "environment_variables": {},
   "exception": true,
   "input_path": "mxnet_mnist.ipynb",
   "output_path": "/opt/ml/processing/output/mxnet_mnist-2021-06-08-00-14-15.ipynb",
   "parameters": {
    "kms_key": "arn:aws:kms:us-west-2:521695447989:key/6e9984db-50cf-4c7e-926c-877ec47a8b25"
   },
   "start_time": "2021-06-08T00:18:14.638762",
   "version": "2.3.3"
  }
 },
 "nbformat": 4,
 "nbformat_minor": 5
}
